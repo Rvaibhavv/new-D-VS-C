{
 "cells": [
  {
   "cell_type": "code",
   "execution_count": 1,
   "metadata": {},
   "outputs": [],
   "source": [
    "import os\n",
    "%pwd\n",
    "os.chdir(\"../\")"
   ]
  },
  {
   "cell_type": "code",
   "execution_count": 2,
   "metadata": {},
   "outputs": [
    {
     "data": {
      "text/plain": [
       "'c:\\\\Users\\\\rvaib\\\\OneDrive\\\\Desktop\\\\new-D-VS-C'"
      ]
     },
     "execution_count": 2,
     "metadata": {},
     "output_type": "execute_result"
    }
   ],
   "source": [
    "%pwd"
   ]
  },
  {
   "cell_type": "code",
   "execution_count": 3,
   "metadata": {},
   "outputs": [],
   "source": [
    "# # MLFLOW_TRACKING_URI=https://dagshub.com/Rvaibhavv/DogVsCat-Identidier-full-implementation.mlflow \\\n",
    "# # MLFLOW_TRACKING_USERNAME=Rvaibhavv \\\n",
    "# # MLFLOW_TRACKING_PASSWORD=a37ad20e3c8a402cd86cae1238ec2ef1bed9ba0d \\\n",
    "\n",
    "# # MLFLOW_TRACKING_URI=https://dagshub.com/Rvaibhavv/DogVsCat-Identidier-full-implementation.mlflow \\\n",
    "# # MLFLOW_TRACKING_USERNAME=Rvaibhavv \\\n",
    "# # MLFLOW_TRACKING_PASSWORD=a37ad20e3c8a402cd86cae1238ec2ef1bed9ba0d \\\n",
    "# # python script.py\n",
    "# # python script.py\n",
    "# MLFLOW_TRACKING_URI=https://dagshub.com/Rvaibhavv/DogVsCat-Identidier-full-implementation.mlflow \\\n",
    "# MLFLOW_TRACKING_USERNAME=Rvaibhavv \\\n",
    "# MLFLOW_TRACKING_PASSWORD=a37ad20e3c8a402cd86cae1238ec2ef1bed9ba0d \\\n",
    "# python script.py\n",
    "# MLFLOW_TRACKING_URI=https://dagshub.com/Rvaibhavv/new-D-VS-C.mlflow \\\n",
    "# MLFLOW_TRACKING_USERNAME=Rvaibhavv \\\n",
    "# MLFLOW_TRACKING_PASSWORD=a37ad20e3c8a402cd86cae1238ec2ef1bed9ba0d \\\n",
    "# python script.py"
   ]
  },
  {
   "cell_type": "code",
   "execution_count": 4,
   "metadata": {},
   "outputs": [],
   "source": [
    "os.environ[\"MLFLOW_TRACKING_URI\"]=\"https://dagshub.com/Rvaibhavv/new-D-VS-C.mlflow\"\n",
    "os.environ[\"MLFLOW_TRACKING_USERNAME\"]=\"Rvaibhavv\"\n",
    "os.environ[\"MLFLOW_TRACKING_PASSWORD\"]=\"a37ad20e3c8a402cd86cae1238ec2ef1bed9ba0d\""
   ]
  },
  {
   "cell_type": "code",
   "execution_count": 5,
   "metadata": {},
   "outputs": [],
   "source": [
    "import tensorflow as tf"
   ]
  },
  {
   "cell_type": "code",
   "execution_count": 6,
   "metadata": {},
   "outputs": [],
   "source": [
    "model =tf.keras.models.load_model(\"artifacts/model_trainer/model.h5\")"
   ]
  },
  {
   "cell_type": "code",
   "execution_count": null,
   "metadata": {},
   "outputs": [],
   "source": []
  },
  {
   "cell_type": "code",
   "execution_count": 7,
   "metadata": {},
   "outputs": [],
   "source": [
    "from dataclasses import dataclass\n",
    "from pathlib import Path\n",
    "\n",
    "@dataclass(frozen=True)\n",
    "class ModelEvaluationConfig:\n",
    "    root_dir: Path\n",
    "    test_data_path: Path\n",
    "    batch_size: int\n",
    "    model_path: Path\n",
    "    mlflow_uri: str\n",
    "    all_params: dict\n",
    "    image_width: int\n",
    "    image_height: int\n",
    "    metric_file_name: Path\n",
    "    model_path: Path\n",
    "    "
   ]
  },
  {
   "cell_type": "code",
   "execution_count": 8,
   "metadata": {},
   "outputs": [],
   "source": [
    "from src.DogvsCatClassifier.constants import *\n",
    "from src.DogvsCatClassifier.utils.common import read_yaml, create_directories,save_json"
   ]
  },
  {
   "cell_type": "code",
   "execution_count": 9,
   "metadata": {},
   "outputs": [],
   "source": [
    "class ConfigurationManager:\n",
    "    def __init__(\n",
    "        self, \n",
    "        config_filepath = CONFIG_FILE_PATH,\n",
    "        params_filepath = PARAMS_FILE_PATH):\n",
    "        self.config = read_yaml(config_filepath)\n",
    "        self.params = read_yaml(params_filepath)\n",
    "        create_directories([self.config.artifacts_root])\n",
    "\n",
    "    \n",
    "    def get_model_evaluation_config(self) -> ModelEvaluationConfig:\n",
    "\n",
    "        config =self.config.model_evaluation\n",
    "        params =self.params\n",
    "\n",
    "        create_directories([config.root_dir])\n",
    "        eval_config = ModelEvaluationConfig(\n",
    "            root_dir=config.root_dir,\n",
    "            \n",
    "            mlflow_uri=config.mlflow_uri,\n",
    "            all_params=self.params,\n",
    "            test_data_path=config.test_data_path,\n",
    "            batch_size=params.batch_size,\n",
    "            image_width=params.image_width,\n",
    "            image_height=params.image_height,\n",
    "            metric_file_name=config.metric_file_name,\n",
    "            model_path= config.model_path\n",
    "            \n",
    "            \n",
    "            \n",
    "\n",
    "        )\n",
    "        return eval_config\n",
    "\n",
    "\n"
   ]
  },
  {
   "cell_type": "code",
   "execution_count": 10,
   "metadata": {},
   "outputs": [],
   "source": [
    "from tensorflow import keras\n",
    "import mlflow\n",
    "import mlflow.keras\n",
    "from urllib.parse import urlparse"
   ]
  },
  {
   "cell_type": "code",
   "execution_count": 11,
   "metadata": {},
   "outputs": [],
   "source": [
    "class ModelEvaluation:\n",
    "    def __init__(self, config: ModelEvaluationConfig):\n",
    "        self.config = config\n",
    "    \n",
    "    def set_and_test(self):\n",
    "        validation_ds =keras.utils.image_dataset_from_directory(\n",
    "            directory = self.config.test_data_path,\n",
    "            labels='inferred',\n",
    "            label_mode='int',\n",
    "            batch_size=self.config.batch_size,\n",
    "            image_size=(self.config.image_width,self.config.image_height),\n",
    "\n",
    "        )\n",
    "        def process(image,label):\n",
    "            image = tf.cast(image/255. , tf.float32)\n",
    "            return image,label\n",
    "        \n",
    "        \n",
    "        validation_ds=validation_ds.map(process)\n",
    "\n",
    "        return  validation_ds\n",
    "    \n",
    "    def evaluate(self,validation_ds):\n",
    "        test_loss, test_accuracy = model.evaluate(validation_ds)\n",
    "        print('Test accuracy:', test_accuracy)\n",
    "        print('Test Loss',test_loss)\n",
    "        score = {\"loss\": test_loss, \"accuracy\": test_accuracy}\n",
    "        save_json(path=Path(self.config.metric_file_name), data=score)\n",
    "        return test_loss,test_accuracy\n",
    "\n",
    "    \n",
    "\n",
    "    def mlflowlogin(self,loss,accuracy):\n",
    "        \n",
    "        model =self.config.model_path\n",
    "        model =tf.keras.models.load_model(model)\n",
    "        \n",
    "\n",
    "        mlflow.set_registry_uri(self.config.mlflow_uri)\n",
    "        tracking_url_type_store = urlparse(mlflow.get_tracking_uri()).scheme\n",
    "        \n",
    "        with mlflow.start_run() :\n",
    "            \n",
    "            \n",
    "            mlflow.log_params(self.config.all_params)\n",
    "            \n",
    "            mlflow.log_metrics(\n",
    "                {\"loss\": loss, \"accuracy\": accuracy}\n",
    "            )\n",
    "            \n",
    "            \n",
    "            if tracking_url_type_store != \"file\":\n",
    "\n",
    "                \n",
    "                mlflow.keras.log_model(model, \"model\", registered_model_name=\"catvsdogpred\")\n",
    "            else:\n",
    "                mlflow.keras.log_model(model, \"model\")\n",
    "            \n",
    "\n"
   ]
  },
  {
   "cell_type": "code",
   "execution_count": 12,
   "metadata": {},
   "outputs": [
    {
     "name": "stdout",
     "output_type": "stream",
     "text": [
      "[2024-01-31 23:57:03,798: INFO: common: yaml file: config\\config.yaml loaded successfully]\n",
      "[2024-01-31 23:57:03,801: INFO: common: yaml file: params.yaml loaded successfully]\n",
      "[2024-01-31 23:57:03,802: INFO: common: created directory at: artifacts]\n",
      "[2024-01-31 23:57:03,802: INFO: common: created directory at: artifacts\\model_evaluation]\n",
      "Found 5000 files belonging to 2 classes.\n",
      "157/157 [==============================] - 14s 45ms/step - loss: 0.4768 - accuracy: 0.7756\n",
      "Test accuracy: 0.775600016117096\n",
      "Test Loss 0.47677159309387207\n",
      "[2024-01-31 23:57:17,949: INFO: common: json file saved at: artifacts\\model_evaluation\\metrics.json]\n"
     ]
    },
    {
     "name": "stderr",
     "output_type": "stream",
     "text": [
      "2024/01/31 23:57:20 WARNING mlflow.tensorflow: You are saving a TensorFlow Core model or Keras model without a signature. Inference with mlflow.pyfunc.spark_udf() will not work unless the model's pyfunc representation accepts pandas DataFrames as inference inputs.\n"
     ]
    },
    {
     "name": "stdout",
     "output_type": "stream",
     "text": [
      "[2024-01-31 23:57:22,309: WARNING: save: Found untraced functions such as _jit_compiled_convolution_op, _jit_compiled_convolution_op, _jit_compiled_convolution_op while saving (showing 3 of 3). These functions will not be directly callable after loading.]\n",
      "INFO:tensorflow:Assets written to: C:\\Users\\rvaib\\AppData\\Local\\Temp\\tmpc244xs_o\\model\\data\\model\\assets\n",
      "[2024-01-31 23:57:23,252: INFO: builder_impl: Assets written to: C:\\Users\\rvaib\\AppData\\Local\\Temp\\tmpc244xs_o\\model\\data\\model\\assets]\n"
     ]
    },
    {
     "name": "stderr",
     "output_type": "stream",
     "text": [
      "c:\\Users\\rvaib\\.conda\\envs\\cvdn\\lib\\site-packages\\_distutils_hack\\__init__.py:33: UserWarning: Setuptools is replacing distutils.\n",
      "  warnings.warn(\"Setuptools is replacing distutils.\")\n",
      "Registered model 'catvsdogpred' already exists. Creating a new version of this model...\n",
      "2024/01/31 23:58:55 INFO mlflow.tracking._model_registry.client: Waiting up to 300 seconds for model version to finish creation.                     Model name: catvsdogpred, version 5\n",
      "Created version '5' of model 'catvsdogpred'.\n"
     ]
    }
   ],
   "source": [
    "try:\n",
    "    config = ConfigurationManager()\n",
    "    model_eval_config = config.get_model_evaluation_config()\n",
    "    model_evaluation=ModelEvaluation(model_eval_config)\n",
    "    validation_ds = model_evaluation.set_and_test()\n",
    "    loss,accuracy = model_evaluation.evaluate(validation_ds)\n",
    "    model_evaluation.mlflowlogin(loss,accuracy)\n",
    "\n",
    "\n",
    "except Exception as e:\n",
    "    raise e"
   ]
  }
 ],
 "metadata": {
  "kernelspec": {
   "display_name": "gpuenv",
   "language": "python",
   "name": "python3"
  },
  "language_info": {
   "codemirror_mode": {
    "name": "ipython",
    "version": 3
   },
   "file_extension": ".py",
   "mimetype": "text/x-python",
   "name": "python",
   "nbconvert_exporter": "python",
   "pygments_lexer": "ipython3",
   "version": "3.8.0"
  }
 },
 "nbformat": 4,
 "nbformat_minor": 2
}
